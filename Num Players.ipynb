{
 "metadata": {
  "name": "Num Players"
 },
 "nbformat": 3,
 "nbformat_minor": 0,
 "worksheets": [
  {
   "cells": [
    {
     "cell_type": "code",
     "collapsed": false,
     "input": [
      "import pandas\n",
      "import pylab as pl"
     ],
     "language": "python",
     "metadata": {},
     "outputs": [],
     "prompt_number": 95
    },
    {
     "cell_type": "code",
     "collapsed": false,
     "input": [
      "import game\n",
      "import betting\n",
      "reload(game)\n",
      "reload(betting)"
     ],
     "language": "python",
     "metadata": {},
     "outputs": [
      {
       "output_type": "pyout",
       "prompt_number": 82,
       "text": [
        "<module 'betting' from 'betting.pyc'>"
       ]
      }
     ],
     "prompt_number": 82
    },
    {
     "cell_type": "code",
     "collapsed": false,
     "input": [
      "#g0 = game.Game()\n",
      "g1 = game.Game(get_bet=betting.basic_kelly)\n",
      "g2 = game.Game(num_other_players=2, get_bet=betting.basic_kelly)"
     ],
     "language": "python",
     "metadata": {},
     "outputs": [],
     "prompt_number": 88
    },
    {
     "cell_type": "code",
     "collapsed": false,
     "input": [
      "#g0.play_shoes(10000)\n",
      "g1.play_shoes(10000)\n",
      "g2.play_shoes(20000)"
     ],
     "language": "python",
     "metadata": {},
     "outputs": [],
     "prompt_number": 123
    },
    {
     "cell_type": "code",
     "collapsed": false,
     "input": [
      "length = min([\n",
      "    #len(g0.money_trail),\n",
      "    len(g1.money_trail),\n",
      "    len(g2.money_trail)\n",
      "])\n",
      "pandas.DataFrame({\n",
      "    #\"alone, no counting\": g0.money_trail[:length],\n",
      "    \"alone, counting\": g1.money_trail[:length],\n",
      "    \"with 2, counting\": g2.money_trail[:length],\n",
      "}).plot()\n",
      "pl.legend(loc='upper left')"
     ],
     "language": "python",
     "metadata": {},
     "outputs": [
      {
       "output_type": "pyout",
       "prompt_number": 128,
       "text": [
        "<matplotlib.legend.Legend at 0x10a52b390>"
       ]
      },
      {
       "output_type": "display_data",
       "png": "[encoded data removed]"
      }
     ],
     "prompt_number": 128
    },
    {
     "cell_type": "code",
     "collapsed": false,
     "input": [
      "#print g0.player_money\n",
      "print g1.player_money\n",
      "print g2.player_money"
     ],
     "language": "python",
     "metadata": {},
     "outputs": [
      {
       "output_type": "stream",
       "stream": "stdout",
       "text": [
        "17408.0\n",
        "19067.5\n"
       ]
      }
     ],
     "prompt_number": 129
    },
    {
     "cell_type": "code",
     "collapsed": false,
     "input": [],
     "language": "python",
     "metadata": {},
     "outputs": []
    }
   ],
   "metadata": {}
  }
 ]
}