{
 "metadata": {
  "name": "Debug and count"
 },
 "nbformat": 3,
 "nbformat_minor": 0,
 "worksheets": [
  {
   "cells": [
    {
     "cell_type": "code",
     "collapsed": false,
     "input": [
      "import pandas\n",
      "import game\n",
      "import betting\n",
      "reload(game)\n",
      "reload(betting)"
     ],
     "language": "python",
     "metadata": {},
     "outputs": [
      {
       "output_type": "pyout",
       "prompt_number": 23,
       "text": [
        "<module 'betting' from 'betting.pyc'>"
       ]
      }
     ],
     "prompt_number": 23
    },
    {
     "cell_type": "code",
     "collapsed": false,
     "input": [
      "# play with debug on\n",
      "g = game.Game(True, num_decks=2, get_bet=betting.basic_kelly)"
     ],
     "language": "python",
     "metadata": {},
     "outputs": [
      {
       "output_type": "stream",
       "stream": "stdout",
       "text": [
        "shuffled [10, 10, 10, 8, 4, 4, 10, 5, 2, 5, 8, 9, 9, 6, 5, 3, 9, 3, 6, 6, 5, 9, 10, 2, 9, 7, 8, 10, 3, 8, 8, 5, 3, 10, 3, 7, 6, 1, 6, 4, 9, 6, 10, 10, 10, 10, 10, 1, 10, 1, 5, 7, 10, 2, 10, 10, 10, 10, 6, 5, 7, 9, 1, 7, 9, 10, 8, 8, 10, 4, 8, 3, 10, 2, 2, 10, 4, 10, 10, 10, 10, 1, 2, 7, 3, 7, 2, 4, 10, 10, 2, 10, 10, 1, 3, 5, 4, 4, 1, 10, 6, 10, 1, 7]\n"
       ]
      }
     ],
     "prompt_number": 25
    },
    {
     "cell_type": "code",
     "collapsed": false,
     "input": [
      "g.play_hand()"
     ],
     "language": "python",
     "metadata": {},
     "outputs": [
      {
       "output_type": "stream",
       "stream": "stdout",
       "text": [
        "play_hand, count= -1 true= -0.577777777778\n",
        "bet 1\n",
        "dealer= [10, 2]\n",
        "player= [10, 4]\n",
        "player hit, now has [10, 4, 7]\n",
        "player stands at 21\n",
        "dealer done [10, 2, 3, 7]\n",
        "dealer has 22\n",
        "player hand [10, 4, 7]\n",
        "dealer busted. adding bet= 1\n",
        "MONEY 3.5\n",
        "COUNT 0\n",
        "TOTAL HANDS 4\n",
        "\n"
       ]
      }
     ],
     "prompt_number": 32
    },
    {
     "cell_type": "code",
     "collapsed": false,
     "input": [
      "g.money_trail"
     ],
     "language": "python",
     "metadata": {},
     "outputs": [
      {
       "output_type": "pyout",
       "prompt_number": 33,
       "text": [
        "[0, 1, 2.5, 3.5]"
       ]
      }
     ],
     "prompt_number": 33
    },
    {
     "cell_type": "code",
     "collapsed": false,
     "input": [
      "dmg = game.Game(num_decks=4)"
     ],
     "language": "python",
     "metadata": {},
     "outputs": [],
     "prompt_number": 36
    },
    {
     "cell_type": "code",
     "collapsed": false,
     "input": [
      "dmg.play_shoes(100)\n",
      "dmg.print_summary()"
     ],
     "language": "python",
     "metadata": {},
     "outputs": [
      {
       "output_type": "stream",
       "stream": "stdout",
       "text": [
        "final units 0.0\n",
        "num hands 2889\n",
        "winnings per hand 0.0\n",
        "min units= -1.5\n",
        "max units= 78.0\n",
        "Hours with 1 hand per minute= 48\n",
        "$25 units= 0.0\n",
        "$5 units= 0.0\n"
       ]
      }
     ],
     "prompt_number": 37
    },
    {
     "cell_type": "code",
     "collapsed": false,
     "input": [
      "cg = game.Game(num_decks=4, get_bet=betting.basic_kelly)"
     ],
     "language": "python",
     "metadata": {},
     "outputs": [],
     "prompt_number": 38
    },
    {
     "cell_type": "code",
     "collapsed": false,
     "input": [
      "cg.play_shoes(100)\n",
      "cg.print_summary()"
     ],
     "language": "python",
     "metadata": {},
     "outputs": [
      {
       "output_type": "stream",
       "stream": "stdout",
       "text": [
        "final units 197.0\n",
        "num hands 2894\n",
        "winnings per hand 0.0680718728404\n",
        "min units= -283.5\n",
        "max units= 239.5\n",
        "Hours with 1 hand per minute= 48\n",
        "$25 units= 4925.0\n",
        "$5 units= 985.0\n"
       ]
      }
     ],
     "prompt_number": 39
    },
    {
     "cell_type": "code",
     "collapsed": false,
     "input": [],
     "language": "python",
     "metadata": {},
     "outputs": []
    }
   ],
   "metadata": {}
  }
 ]
}